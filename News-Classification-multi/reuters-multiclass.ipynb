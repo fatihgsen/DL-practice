{
 "cells": [
  {
   "cell_type": "markdown",
   "metadata": {},
   "source": [
    "A NN to classify Reuters newswires into 46 mutually exclusive topics. Problem in Sec. 3.5 in Deep Learning with Python by Francois Cholet"
   ]
  },
  {
   "cell_type": "code",
   "execution_count": 9,
   "metadata": {},
   "outputs": [],
   "source": [
    "from keras.datasets import reuters\n",
    "import numpy as np\n",
    "(train_data,train_labels),(test_data,test_labels)=reuters.load_data(num_words=10000)"
   ]
  },
  {
   "cell_type": "code",
   "execution_count": 6,
   "metadata": {},
   "outputs": [
    {
     "name": "stdout",
     "output_type": "stream",
     "text": [
      "Downloading data from https://s3.amazonaws.com/text-datasets/reuters_word_index.json\n",
      "557056/550378 [==============================] - 0s 0us/step\n"
     ]
    }
   ],
   "source": [
    "# Decoding newswires back to text\n",
    "word_index=reuters.get_word_index()\n",
    "reverse_word_index=dict([(value,key) for (key,value) in word_index.items()])\n",
    "decoded_newswire=' '.join([reverse_word_index.get(i-3,'?') for i in train_data[0]])"
   ]
  },
  {
   "cell_type": "code",
   "execution_count": 14,
   "metadata": {},
   "outputs": [],
   "source": [
    "# Vectorizing data\n",
    "def vectorize_sequences(sequences,dimension=10000):\n",
    "    results=np.zeros((len(sequences),dimension))\n",
    "    for i,sequence in enumerate(sequences):\n",
    "        results[i,sequence]=1\n",
    "    return results\n",
    "\n",
    "x_train=vectorize_sequences(train_data)\n",
    "x_test=vectorize_sequences(test_data)"
   ]
  },
  {
   "cell_type": "code",
   "execution_count": 19,
   "metadata": {},
   "outputs": [],
   "source": [
    "# Vectorizing Labels with One-hot encoding\n",
    "\n",
    "def to_one_hot(labels,dimension=46):\n",
    "    results=np.zeros((len(labels),dimension))\n",
    "    for i,label in enumerate(labels):\n",
    "        results[i,label]=1\n",
    "    return results\n",
    "\n",
    "#one_hot_train_labels=to_one_hot(train_labels)\n",
    "#one_hot_test_labels=to_one_hot(test_labels)\n",
    "\n",
    "# Alternatively there is a built-in function in Keras\n",
    "# Check this one\n",
    "from keras.utils.np_utils import to_categorical\n",
    "\n",
    "one_hot_train_labels=to_categorical(train_labels)\n",
    "one_hot_test_labels=to_categorical(test_labels)"
   ]
  },
  {
   "cell_type": "code",
   "execution_count": 17,
   "metadata": {},
   "outputs": [
    {
     "data": {
      "text/plain": [
       "array([[ 0.,  0.,  0., ...,  0.,  0.,  0.],\n",
       "       [ 0.,  0.,  0., ...,  0.,  0.,  0.],\n",
       "       [ 0.,  1.,  0., ...,  0.,  0.,  0.],\n",
       "       ..., \n",
       "       [ 0.,  0.,  0., ...,  0.,  0.,  0.],\n",
       "       [ 0.,  0.,  0., ...,  0.,  0.,  0.],\n",
       "       [ 0.,  0.,  0., ...,  0.,  0.,  0.]])"
      ]
     },
     "execution_count": 17,
     "metadata": {},
     "output_type": "execute_result"
    }
   ],
   "source": [
    "one_hot_test_labels"
   ]
  },
  {
   "cell_type": "code",
   "execution_count": 27,
   "metadata": {},
   "outputs": [],
   "source": [
    "# Building network\n",
    "\n",
    "from keras import models\n",
    "from keras import layers\n",
    "model=models.Sequential()\n",
    "model.add(layers.Dense(64,activation='relu', input_shape=(10000,)))\n",
    "model.add(layers.Dense(64,activation='relu'))\n",
    "model.add(layers.Dense(46,activation='softmax')) # softmax prints probability distribution over 46 classes\n",
    "\n",
    "model.compile(optimizer='rmsprop',loss='categorical_crossentropy',metrics=['accuracy'])"
   ]
  },
  {
   "cell_type": "code",
   "execution_count": 28,
   "metadata": {
    "collapsed": true
   },
   "outputs": [],
   "source": [
    "# Creating a validation set containing 1000 data\n",
    "\n",
    "x_val=x_train[:1000]\n",
    "partial_x_train=x_train[1000:]\n",
    "\n",
    "y_val=one_hot_train_labels[:1000]\n",
    "partial_y_train=one_hot_train_labels[1000:]"
   ]
  },
  {
   "cell_type": "code",
   "execution_count": 29,
   "metadata": {},
   "outputs": [
    {
     "name": "stdout",
     "output_type": "stream",
     "text": [
      "Train on 7982 samples, validate on 1000 samples\n",
      "Epoch 1/20\n",
      "7982/7982 [==============================] - 1s 138us/step - loss: 2.6102 - acc: 0.5287 - val_loss: 1.6778 - val_acc: 0.6340\n",
      "Epoch 2/20\n",
      "7982/7982 [==============================] - 1s 90us/step - loss: 1.3994 - acc: 0.7035 - val_loss: 1.2831 - val_acc: 0.7150\n",
      "Epoch 3/20\n",
      "7982/7982 [==============================] - 1s 90us/step - loss: 1.0562 - acc: 0.7676 - val_loss: 1.1193 - val_acc: 0.7550\n",
      "Epoch 4/20\n",
      "7982/7982 [==============================] - 1s 89us/step - loss: 0.8303 - acc: 0.8211 - val_loss: 1.0192 - val_acc: 0.7890\n",
      "Epoch 5/20\n",
      "7982/7982 [==============================] - 1s 88us/step - loss: 0.6645 - acc: 0.8602 - val_loss: 0.9665 - val_acc: 0.8000\n",
      "Epoch 6/20\n",
      "7982/7982 [==============================] - 1s 87us/step - loss: 0.5311 - acc: 0.8916 - val_loss: 0.9177 - val_acc: 0.8150\n",
      "Epoch 7/20\n",
      "7982/7982 [==============================] - 1s 87us/step - loss: 0.4298 - acc: 0.9107 - val_loss: 0.9171 - val_acc: 0.8100\n",
      "Epoch 8/20\n",
      "7982/7982 [==============================] - 1s 84us/step - loss: 0.3475 - acc: 0.9255 - val_loss: 0.9157 - val_acc: 0.8080\n",
      "Epoch 9/20\n",
      "7982/7982 [==============================] - 1s 85us/step - loss: 0.2905 - acc: 0.9366 - val_loss: 0.9082 - val_acc: 0.8160\n",
      "Epoch 10/20\n",
      "7982/7982 [==============================] - 1s 88us/step - loss: 0.2432 - acc: 0.9446 - val_loss: 0.8956 - val_acc: 0.8240\n",
      "Epoch 11/20\n",
      "7982/7982 [==============================] - 1s 86us/step - loss: 0.2108 - acc: 0.9498 - val_loss: 0.9022 - val_acc: 0.8070\n",
      "Epoch 12/20\n",
      "7982/7982 [==============================] - 1s 87us/step - loss: 0.1838 - acc: 0.9523 - val_loss: 0.9147 - val_acc: 0.8090\n",
      "Epoch 13/20\n",
      "7982/7982 [==============================] - 1s 90us/step - loss: 0.1690 - acc: 0.9518 - val_loss: 0.9535 - val_acc: 0.8070\n",
      "Epoch 14/20\n",
      "7982/7982 [==============================] - 1s 89us/step - loss: 0.1540 - acc: 0.9540 - val_loss: 0.9422 - val_acc: 0.8130\n",
      "Epoch 15/20\n",
      "7982/7982 [==============================] - 1s 90us/step - loss: 0.1441 - acc: 0.9535 - val_loss: 0.9809 - val_acc: 0.8100\n",
      "Epoch 16/20\n",
      "7982/7982 [==============================] - 1s 93us/step - loss: 0.1313 - acc: 0.9574 - val_loss: 0.9611 - val_acc: 0.8140\n",
      "Epoch 17/20\n",
      "7982/7982 [==============================] - 1s 88us/step - loss: 0.1215 - acc: 0.9579 - val_loss: 1.0226 - val_acc: 0.8110\n",
      "Epoch 18/20\n",
      "7982/7982 [==============================] - 1s 87us/step - loss: 0.1228 - acc: 0.9564 - val_loss: 1.0147 - val_acc: 0.8020\n",
      "Epoch 19/20\n",
      "7982/7982 [==============================] - 1s 93us/step - loss: 0.1155 - acc: 0.9569 - val_loss: 1.0601 - val_acc: 0.8060\n",
      "Epoch 20/20\n",
      "7982/7982 [==============================] - 1s 89us/step - loss: 0.1130 - acc: 0.9582 - val_loss: 1.0484 - val_acc: 0.8050\n"
     ]
    }
   ],
   "source": [
    "# training model\n",
    "\n",
    "history=model.fit(partial_x_train,partial_y_train,epochs=20,batch_size=512,validation_data=(x_val,y_val))"
   ]
  },
  {
   "cell_type": "code",
   "execution_count": 30,
   "metadata": {},
   "outputs": [
    {
     "data": {
      "image/png": "[encoded data removed]",
      "text/plain": [
       "<matplotlib.figure.Figure at 0x181802d898>"
      ]
     },
     "metadata": {},
     "output_type": "display_data"
    }
   ],
   "source": [
    "# Plotting training and validation loss\n",
    "\n",
    "import matplotlib.pyplot as plt\n",
    "\n",
    "loss=history.history['loss']\n",
    "val_loss=history.history['val_loss']\n",
    "epochs=range(1,len(loss)+1)\n",
    "\n",
    "plt.plot(epochs,loss,'bo',label='Training loss')\n",
    "plt.plot(epochs,val_loss,'b',label='Validation loss')\n",
    "plt.title('Training and validation loss')\n",
    "plt.xlabel('Epochs')\n",
    "plt.ylabel('Loss')\n",
    "plt.legend()\n",
    "plt.show()\n",
    "\n"
   ]
  },
  {
   "cell_type": "code",
   "execution_count": 37,
   "metadata": {},
   "outputs": [
    {
     "name": "stdout",
     "output_type": "stream",
     "text": [
      "Train on 7982 samples, validate on 1000 samples\n",
      "Epoch 1/6\n",
      "7982/7982 [==============================] - 2s 215us/step - loss: 2.1680 - acc: 0.5556 - val_loss: 1.3701 - val_acc: 0.6790\n",
      "Epoch 2/6\n",
      "7982/7982 [==============================] - 2s 193us/step - loss: 1.0319 - acc: 0.7760 - val_loss: 1.2087 - val_acc: 0.7230\n",
      "Epoch 3/6\n",
      "7982/7982 [==============================] - 2s 192us/step - loss: 0.6885 - acc: 0.8532 - val_loss: 0.9331 - val_acc: 0.8140\n",
      "Epoch 4/6\n",
      "7982/7982 [==============================] - 2s 191us/step - loss: 0.4758 - acc: 0.9009 - val_loss: 0.8812 - val_acc: 0.8120\n",
      "Epoch 5/6\n",
      "7982/7982 [==============================] - 2s 196us/step - loss: 0.3421 - acc: 0.9253 - val_loss: 0.8872 - val_acc: 0.8170\n",
      "Epoch 6/6\n",
      "7982/7982 [==============================] - 2s 191us/step - loss: 0.2624 - acc: 0.9426 - val_loss: 0.9075 - val_acc: 0.8120\n",
      "2246/2246 [==============================] - 0s 115us/step\n"
     ]
    }
   ],
   "source": [
    "# Model overfits after 9 epochs. A new NN will be trained using 9 epochs.\n",
    "\n",
    "model=models.Sequential()\n",
    "model.add(layers.Dense(256,activation='relu', input_shape=(10000,)))\n",
    "model.add(layers.Dense(64,activation='relu'))\n",
    "model.add(layers.Dense(46,activation='softmax')) # softmax prints probability distribution over 46 classes\n",
    "\n",
    "model.compile(optimizer='rmsprop',loss='categorical_crossentropy',metrics=['accuracy'])\n",
    "model.fit(partial_x_train,partial_y_train,epochs=6,batch_size=512,validation_data=(x_val,y_val))\n",
    "results=model.evaluate(x_test,one_hot_test_labels)"
   ]
  },
  {
   "cell_type": "code",
   "execution_count": 38,
   "metadata": {},
   "outputs": [
    {
     "data": {
      "text/plain": [
       "[1.0046988525033953, 0.78183437221727514]"
      ]
     },
     "execution_count": 38,
     "metadata": {},
     "output_type": "execute_result"
    }
   ],
   "source": [
    "results"
   ]
  },
  {
   "cell_type": "code",
   "execution_count": null,
   "metadata": {
    "collapsed": true
   },
   "outputs": [],
   "source": []
  }
 ],
 "metadata": {
  "kernelspec": {
   "display_name": "Python 3",
   "language": "python",
   "name": "python3"
  },
  "language_info": {
   "codemirror_mode": {
    "name": "ipython",
    "version": 3
   },
   "file_extension": ".py",
   "mimetype": "text/x-python",
   "name": "python",
   "nbconvert_exporter": "python",
   "pygments_lexer": "ipython3",
   "version": "3.6.3"
  }
 },
 "nbformat": 4,
 "nbformat_minor": 2
}
